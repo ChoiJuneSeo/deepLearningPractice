{
 "cells": [
  {
   "cell_type": "code",
   "execution_count": 10,
   "metadata": {},
   "outputs": [],
   "source": [
    "import tensorflow as tf\n",
    "import numpy as np\n",
    "import pandas as pd\n",
    "import os\n",
    "import shutil"
   ]
  },
  {
   "cell_type": "code",
   "execution_count": 9,
   "metadata": {},
   "outputs": [
    {
     "name": "stdout",
     "output_type": "stream",
     "text": [
      "25000\n"
     ]
    }
   ],
   "source": [
    "print(len(os.listdir('C:\\\\Users\\Owner\\Desktop\\dogs-vs-cats-redux-kernels-edition/train/train')))"
   ]
  },
  {
   "cell_type": "code",
   "execution_count": 14,
   "metadata": {},
   "outputs": [],
   "source": [
    "for i in os.listdir('C:\\\\Users\\Owner\\Desktop\\dogs-vs-cats-redux-kernels-edition/train/train'):\n",
    "    if 'cat' in i:\n",
    "        shutil.copyfile('C:\\\\Users\\Owner\\Desktop\\dogs-vs-cats-redux-kernels-edition/train/train/'+i,'C:\\\\Users\\Owner\\Desktop\\dogs-vs-cats-redux-kernels-edition/train/cat/'+i)\n",
    "    if 'dog' in i:\n",
    "        shutil.copyfile('C:\\\\Users\\Owner\\Desktop\\dogs-vs-cats-redux-kernels-edition/train/train/'+i,'C:\\\\Users\\Owner\\Desktop\\dogs-vs-cats-redux-kernels-edition/train/dog/'+i)\n",
    "    "
   ]
  },
  {
   "cell_type": "code",
   "execution_count": 19,
   "metadata": {},
   "outputs": [
    {
     "name": "stdout",
     "output_type": "stream",
     "text": [
      "Found 25000 files belonging to 2 classes.\n",
      "Using 20000 files for training.\n",
      "Found 25000 files belonging to 2 classes.\n",
      "Using 5000 files for validation.\n",
      "<BatchDataset element_spec=(TensorSpec(shape=(None, 64, 64, 3), dtype=tf.float32, name=None), TensorSpec(shape=(None,), dtype=tf.int32, name=None))>\n"
     ]
    }
   ],
   "source": [
    "train_ds = tf.keras.preprocessing.image_dataset_from_directory('C:\\\\Users\\Owner\\Desktop\\codingapple\\deep\\dataset',\n",
    "                                                    image_size=(64,64),\n",
    "                                                    batch_size=64,\n",
    "                                                    subset='training',\n",
    "                                                    validation_split=0.2,\n",
    "                                                    seed=1234)\n",
    "val_ds = tf.keras.preprocessing.image_dataset_from_directory('C:\\\\Users\\Owner\\Desktop\\codingapple\\deep\\dataset',\n",
    "                                                    image_size=(64,64),\n",
    "                                                    batch_size=64,\n",
    "                                                    subset='validation',\n",
    "                                                    validation_split=0.2,\n",
    "                                                    seed=1234)\n",
    "\n",
    "print(train_ds)\n"
   ]
  },
  {
   "cell_type": "code",
   "execution_count": null,
   "metadata": {},
   "outputs": [],
   "source": []
  }
 ],
 "metadata": {
  "kernelspec": {
   "display_name": "Python 3",
   "language": "python",
   "name": "python3"
  },
  "language_info": {
   "codemirror_mode": {
    "name": "ipython",
    "version": 3
   },
   "file_extension": ".py",
   "mimetype": "text/x-python",
   "name": "python",
   "nbconvert_exporter": "python",
   "pygments_lexer": "ipython3",
   "version": "3.9.0"
  },
  "orig_nbformat": 4
 },
 "nbformat": 4,
 "nbformat_minor": 2
}
